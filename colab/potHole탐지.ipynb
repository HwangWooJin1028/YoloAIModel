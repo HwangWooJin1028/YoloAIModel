{
  "nbformat": 4,
  "nbformat_minor": 0,
  "metadata": {
    "colab": {
      "provenance": [],
      "collapsed_sections": [
        "tPXtHyl4dstw",
        "PN3fLBp6e-sX",
        "Qv38Uol0tctt",
        "jdk-N6givB_V",
        "KOMpArzVvHXt"
      ],
      "gpuType": "T4",
      "authorship_tag": "ABX9TyM2Zzb7uvEB4KVcH9O6ROm6",
      "include_colab_link": true
    },
    "kernelspec": {
      "name": "python3",
      "display_name": "Python 3"
    },
    "language_info": {
      "name": "python"
    },
    "accelerator": "GPU"
  },
  "cells": [
    {
      "cell_type": "markdown",
      "metadata": {
        "id": "view-in-github",
        "colab_type": "text"
      },
      "source": [
        "<a href=\"https://colab.research.google.com/github/HwangWooJin1028/YoloAIModel/blob/main/colab/potHole%ED%83%90%EC%A7%80.ipynb\" target=\"_parent\"><img src=\"https://colab.research.google.com/assets/colab-badge.svg\" alt=\"Open In Colab\"/></a>"
      ]
    },
    {
      "cell_type": "markdown",
      "source": [
        "# 포트홀 탐지 모델 만들기\n",
        "## 포트홀이란\n",
        "  1. 포트홀은 도로에 만들어진 크랙의 종류로 깊게 패인 웅덩이를 말한다.\n",
        "  2. 포트홀을 탐지하는 목적은\n",
        "    - 자율 주행 자동차의 안전을 위한 회피운행\n",
        "    - 도로 보수를 위한 위치 탐색"
      ],
      "metadata": {
        "id": "yeevRDXMcjpI"
      }
    },
    {
      "cell_type": "markdown",
      "source": [
        "## 응용 SW를 개발하는 방법\n",
        "  1. What ? : 위의 정의와 같이 무엇을 할 것인지를 정한다.\n",
        "  2. DataSet을 준비한다. : 학습을 위한 addnotation 된 dataSet을 준비한다.\n",
        "  3. 적합한 Pre-Trained된 모델을 구한다. :  이미지 관련서 우리는 YOLO에 집중한다.\n",
        "  4. Fine-Tunning : 2에서 준비한 dataSet을 이용하여 custom Model을 만든다.\n",
        "  5. 응용 SW를 제작한다.\n",
        "    - webAPP : 실습한 TM을 이용한 JS를 기억한다.\n",
        "    - nativeAPP : python과 pyQT5를 이용한 배포가능한 setup.exe 까지 완성한 것을 기억한다.\n",
        "    "
      ],
      "metadata": {
        "id": "I2XIqa2Ndx_o"
      }
    },
    {
      "cell_type": "markdown",
      "source": [
        "## YOLO git clone"
      ],
      "metadata": {
        "id": "tPXtHyl4dstw"
      }
    },
    {
      "cell_type": "code",
      "source": [
        "# 현재 폴더\n",
        "%pwd\n",
        "# 위치 이동을 강제로 해야한다면\n",
        "%cd /content/\n",
        "%pwd"
      ],
      "metadata": {
        "colab": {
          "base_uri": "https://localhost:8080/",
          "height": 54
        },
        "id": "sxTaEzbUcjch",
        "outputId": "18b2deca-dc46-4924-b562-23ad8a2f111d"
      },
      "execution_count": null,
      "outputs": [
        {
          "output_type": "stream",
          "name": "stdout",
          "text": [
            "/content\n"
          ]
        },
        {
          "output_type": "execute_result",
          "data": {
            "text/plain": [
              "'/content'"
            ],
            "application/vnd.google.colaboratory.intrinsic+json": {
              "type": "string"
            }
          },
          "metadata": {},
          "execution_count": 1
        }
      ]
    },
    {
      "cell_type": "code",
      "source": [
        "# github 에서 YOLO 가져오기\n",
        "!git clone https://github.com/ultralytics/yolov5"
      ],
      "metadata": {
        "colab": {
          "base_uri": "https://localhost:8080/"
        },
        "id": "SJXJEfcLd_Pf",
        "outputId": "db30dd27-0baa-42a2-da65-22c8a5bc065c"
      },
      "execution_count": null,
      "outputs": [
        {
          "output_type": "stream",
          "name": "stdout",
          "text": [
            "Cloning into 'yolov5'...\n",
            "remote: Enumerating objects: 16572, done.\u001b[K\n",
            "remote: Counting objects: 100% (50/50), done.\u001b[K\n",
            "remote: Compressing objects: 100% (37/37), done.\u001b[K\n",
            "remote: Total 16572 (delta 26), reused 32 (delta 13), pack-reused 16522\u001b[K\n",
            "Receiving objects: 100% (16572/16572), 15.10 MiB | 10.49 MiB/s, done.\n",
            "Resolving deltas: 100% (11383/11383), done.\n"
          ]
        }
      ]
    },
    {
      "cell_type": "markdown",
      "source": [
        "# 작업 폴더로 이동"
      ],
      "metadata": {
        "id": "PN3fLBp6e-sX"
      }
    },
    {
      "cell_type": "code",
      "source": [
        "%cd yolov5/"
      ],
      "metadata": {
        "colab": {
          "base_uri": "https://localhost:8080/"
        },
        "id": "nt_CY_pxeFUA",
        "outputId": "a5cbff16-bed3-45d1-fdca-850b6584294e"
      },
      "execution_count": null,
      "outputs": [
        {
          "output_type": "stream",
          "name": "stdout",
          "text": [
            "/content/yolov5\n"
          ]
        }
      ]
    },
    {
      "cell_type": "code",
      "source": [
        "# dataSet을 가져올 폴더를 만든다\n",
        "%mkdir /content/yolov5/pothole\n",
        "%cd /content/yolov5/pothole"
      ],
      "metadata": {
        "colab": {
          "base_uri": "https://localhost:8080/"
        },
        "id": "LiwbpRrHfMHW",
        "outputId": "01ab41db-058e-493c-cbea-c73a1ae2fa03"
      },
      "execution_count": null,
      "outputs": [
        {
          "output_type": "stream",
          "name": "stdout",
          "text": [
            "/content/yolov5/pothole\n"
          ]
        }
      ]
    },
    {
      "cell_type": "markdown",
      "source": [
        "## dataSet 가져오기\n",
        "  - data를 cul 명령어를 통하여 roboflow에서 가져온다."
      ],
      "metadata": {
        "id": "0610gKwdfanQ"
      }
    },
    {
      "cell_type": "code",
      "execution_count": null,
      "metadata": {
        "id": "acWCrnkhPVRm"
      },
      "outputs": [],
      "source": [
        "!curl -L \"https://public.roboflow.com/ds/AZZeoZCGOT?key=XFPYdCUU9Z\" > roboflow.zip; unzip roboflow.zip; rm roboflow.zip"
      ]
    },
    {
      "cell_type": "code",
      "source": [
        "%pwd"
      ],
      "metadata": {
        "colab": {
          "base_uri": "https://localhost:8080/",
          "height": 35
        },
        "id": "KFo7MSiWiddX",
        "outputId": "a7435317-3fc6-4e04-8412-2b896dd99c75"
      },
      "execution_count": null,
      "outputs": [
        {
          "output_type": "execute_result",
          "data": {
            "text/plain": [
              "'/content/yolov5/pothole'"
            ],
            "application/vnd.google.colaboratory.intrinsic+json": {
              "type": "string"
            }
          },
          "metadata": {},
          "execution_count": 6
        }
      ]
    },
    {
      "cell_type": "markdown",
      "source": [
        "## dataSet의 구성 내용 확인\n",
        "*   각각의 데이터 셋이 얼마나 있는지 print한다.\n",
        "    - images에 있는 pothole의 위치를 정규화한다.\n"
      ],
      "metadata": {
        "id": "8cOneWmKigLv"
      }
    },
    {
      "cell_type": "code",
      "execution_count": null,
      "metadata": {
        "colab": {
          "base_uri": "https://localhost:8080/"
        },
        "id": "w8IZH0DKPVRm",
        "outputId": "323db6ce-6fc6-417d-f6e8-da4764159446"
      },
      "outputs": [
        {
          "output_type": "stream",
          "name": "stdout",
          "text": [
            "465 67 133\n"
          ]
        }
      ],
      "source": [
        "from glob import glob\n",
        "train_img_list = glob('/content/yolov5/pothole/train/images/*.jpg')\n",
        "test_img_list = glob('/content/yolov5/pothole/test/images/*.jpg')\n",
        "valid_img_list = glob('/content/yolov5/pothole/valid/images/*.jpg')\n",
        "print(len(train_img_list), len(test_img_list), len(valid_img_list))"
      ]
    },
    {
      "cell_type": "markdown",
      "source": [
        "*   glob\n",
        "    - 파일 경로를 매칭하여 파일들의 리스트를 반환하는데 사용\n",
        "    - 디렉토리 내의 파일을 다룰 때 사용"
      ],
      "metadata": {
        "id": "xStAGbonpSwt"
      }
    },
    {
      "cell_type": "markdown",
      "source": [
        "# 모델 FineTunning 시작"
      ],
      "metadata": {
        "id": "I6zNqBERjVuv"
      }
    },
    {
      "cell_type": "markdown",
      "source": [
        "## 1. dataSet의 위치등을 알려주기 위한 yaml 파일 준비"
      ],
      "metadata": {
        "id": "Qv38Uol0tctt"
      }
    },
    {
      "cell_type": "markdown",
      "source": [
        "### 위에서 만든 list를 txt 파일로 저장한다.\n"
      ],
      "metadata": {
        "id": "gwOGKX0CobBu"
      }
    },
    {
      "cell_type": "code",
      "execution_count": null,
      "metadata": {
        "id": "8DkFIotMPVRm"
      },
      "outputs": [],
      "source": [
        "import yaml\n",
        "with open('/content/yolov5/pothole/train.txt','w') as f:\n",
        "    f.write('\\n'.join(train_img_list) + '\\n')\n",
        "with open('/content/yolov5/pothole/test.txt','w') as f:\n",
        "    f.write('\\n'.join(test_img_list) + '\\n')\n",
        "with open('/content/yolov5/pothole/val.txt','w') as f:\n",
        "    f.write('\\n'.join(valid_img_list) + '\\n')"
      ]
    },
    {
      "cell_type": "markdown",
      "source": [
        "*   yaml\n",
        "    - YAML 형식의 데이터를 파이썬 객체로 읽거나 파이썬 객체를 yaml 형식으로 쓰는 데 사용\n",
        "    - yaml: 사람이 쓰기 쉬운 데이터 직렬화 방식"
      ],
      "metadata": {
        "id": "1wp9rxiWpV4u"
      }
    },
    {
      "cell_type": "markdown",
      "source": [
        "### fineTunning 중에서 자주 사용하는 writemplate 함수를 정의"
      ],
      "metadata": {
        "id": "ckjgObAao7Fu"
      }
    },
    {
      "cell_type": "code",
      "execution_count": null,
      "metadata": {
        "id": "RzxFmORpPVRn"
      },
      "outputs": [],
      "source": [
        "from IPython.core.magic import register_line_cell_magic\n",
        "\n",
        "@register_line_cell_magic\n",
        "def writetemplate(line,cell):\n",
        "    with open(line, 'w') as f:\n",
        "        f.write(cell.format(**globals()))"
      ]
    },
    {
      "cell_type": "markdown",
      "source": [
        "### FineTunning 중에 모델에게 dataSet의 위치를 알려주기 위한 data.yaml을 만든다."
      ],
      "metadata": {
        "id": "9KG5Sk5IpnvV"
      }
    },
    {
      "cell_type": "code",
      "execution_count": null,
      "metadata": {
        "id": "uhJsaYkDPVRn"
      },
      "outputs": [],
      "source": [
        "%%writetemplate /content/yolov5/pothole/data.yaml\n",
        "\n",
        "train: ./pothole/train/images\n",
        "test: ./pothole/test/images\n",
        "val: ./pothole/valid/images\n",
        "\n",
        "nc: 1\n",
        "names: ['pothole']"
      ]
    },
    {
      "cell_type": "code",
      "execution_count": null,
      "metadata": {
        "colab": {
          "base_uri": "https://localhost:8080/"
        },
        "id": "XqKqgG2rTS6c",
        "outputId": "4ee0bbe9-3478-48f9-ae76-fe1cf9404230"
      },
      "outputs": [
        {
          "output_type": "stream",
          "name": "stdout",
          "text": [
            "\n",
            "train: ./pothole/train/images\n",
            "test: ./pothole/test/images\n",
            "val: ./pothole/valid/images\n",
            "\n",
            "nc: 1\n",
            "names: ['pothole']\n"
          ]
        }
      ],
      "source": [
        "%cat /content/yolov5/pothole/data.yaml"
      ]
    },
    {
      "cell_type": "markdown",
      "source": [
        "### 만들어진 data.yaml에서 필요한 변수(nc)를 가져오기"
      ],
      "metadata": {
        "id": "ZDCAYIV-qSi2"
      }
    },
    {
      "cell_type": "code",
      "execution_count": null,
      "metadata": {
        "colab": {
          "base_uri": "https://localhost:8080/"
        },
        "id": "oDYQyZJDPVRn",
        "outputId": "1d87b955-7c7f-4179-b47e-79f46dee2738"
      },
      "outputs": [
        {
          "output_type": "stream",
          "name": "stdout",
          "text": [
            "1\n"
          ]
        }
      ],
      "source": [
        "with open('/content/yolov5/pothole/data.yaml','r') as stream:\n",
        "  num_classes = str(yaml.safe_load(stream)['nc'])\n",
        "  print(num_classes)\n"
      ]
    },
    {
      "cell_type": "markdown",
      "source": [
        "### custom.yolov5s.yaml 만들기\n",
        "    1. 원래 pre-trained된 yolov5s.yaml이 갖고 있는 내용을 수정해서 만들어야 함\n",
        "      - 원본 yolov5s.yaml을 cat으로 프린트\n",
        "      - 복사하여 사용"
      ],
      "metadata": {
        "id": "fF_eRCGkrR-t"
      }
    },
    {
      "cell_type": "code",
      "source": [
        "%cat /content/yolov5/models/yolov5s.yaml"
      ],
      "metadata": {
        "colab": {
          "base_uri": "https://localhost:8080/"
        },
        "id": "z9tYzKihqyaO",
        "outputId": "01883792-e21b-4123-a0d2-56fd614f831f"
      },
      "execution_count": null,
      "outputs": [
        {
          "output_type": "stream",
          "name": "stdout",
          "text": [
            "# YOLOv5 🚀 by Ultralytics, AGPL-3.0 license\n",
            "\n",
            "# Parameters\n",
            "nc: 80 # number of classes\n",
            "depth_multiple: 0.33 # model depth multiple\n",
            "width_multiple: 0.50 # layer channel multiple\n",
            "anchors:\n",
            "  - [10, 13, 16, 30, 33, 23] # P3/8\n",
            "  - [30, 61, 62, 45, 59, 119] # P4/16\n",
            "  - [116, 90, 156, 198, 373, 326] # P5/32\n",
            "\n",
            "# YOLOv5 v6.0 backbone\n",
            "backbone:\n",
            "  # [from, number, module, args]\n",
            "  [\n",
            "    [-1, 1, Conv, [64, 6, 2, 2]], # 0-P1/2\n",
            "    [-1, 1, Conv, [128, 3, 2]], # 1-P2/4\n",
            "    [-1, 3, C3, [128]],\n",
            "    [-1, 1, Conv, [256, 3, 2]], # 3-P3/8\n",
            "    [-1, 6, C3, [256]],\n",
            "    [-1, 1, Conv, [512, 3, 2]], # 5-P4/16\n",
            "    [-1, 9, C3, [512]],\n",
            "    [-1, 1, Conv, [1024, 3, 2]], # 7-P5/32\n",
            "    [-1, 3, C3, [1024]],\n",
            "    [-1, 1, SPPF, [1024, 5]], # 9\n",
            "  ]\n",
            "\n",
            "# YOLOv5 v6.0 head\n",
            "head: [\n",
            "    [-1, 1, Conv, [512, 1, 1]],\n",
            "    [-1, 1, nn.Upsample, [None, 2, \"nearest\"]],\n",
            "    [[-1, 6], 1, Concat, [1]], # cat backbone P4\n",
            "    [-1, 3, C3, [512, False]], # 13\n",
            "\n",
            "    [-1, 1, Conv, [256, 1, 1]],\n",
            "    [-1, 1, nn.Upsample, [None, 2, \"nearest\"]],\n",
            "    [[-1, 4], 1, Concat, [1]], # cat backbone P3\n",
            "    [-1, 3, C3, [256, False]], # 17 (P3/8-small)\n",
            "\n",
            "    [-1, 1, Conv, [256, 3, 2]],\n",
            "    [[-1, 14], 1, Concat, [1]], # cat head P4\n",
            "    [-1, 3, C3, [512, False]], # 20 (P4/16-medium)\n",
            "\n",
            "    [-1, 1, Conv, [512, 3, 2]],\n",
            "    [[-1, 10], 1, Concat, [1]], # cat head P5\n",
            "    [-1, 3, C3, [1024, False]], # 23 (P5/32-large)\n",
            "\n",
            "    [[17, 20, 23], 1, Detect, [nc, anchors]], # Detect(P3, P4, P5)\n",
            "  ]\n"
          ]
        }
      ]
    },
    {
      "cell_type": "markdown",
      "source": [
        "### custom_yolov5s.yaml 파일을 만든다"
      ],
      "metadata": {
        "id": "b0wdATwWr9C9"
      }
    },
    {
      "cell_type": "markdown",
      "source": [
        "    * nc : 80 또는 nc : 다른 숫자\n",
        "    부분을 앞서 가져온 변수 num_classes로 바꾸어 준다. {num_classes}"
      ],
      "metadata": {
        "id": "JYJebToBsCuV"
      }
    },
    {
      "cell_type": "code",
      "execution_count": null,
      "metadata": {
        "id": "Qjhh6qfWPVRo"
      },
      "outputs": [],
      "source": [
        "%%writetemplate /content/yolov5/models/custom_yolov5s.yaml\n",
        "\n",
        "# Parameters\n",
        "nc: {num_classes}  # number of classes\n",
        "depth_multiple: 0.33  # model depth multiple\n",
        "width_multiple: 0.50  # layer channel multiple\n",
        "anchors:\n",
        "  - [10,13, 16,30, 33,23]  # P3/8\n",
        "  - [30,61, 62,45, 59,119]  # P4/16\n",
        "  - [116,90, 156,198, 373,326]  # P5/32\n",
        "\n",
        "# YOLOv5 v6.0 backbone\n",
        "backbone:\n",
        "  # [from, number, module, args]\n",
        "  [[-1, 1, Conv, [64, 6, 2, 2]],  # 0-P1/2\n",
        "   [-1, 1, Conv, [128, 3, 2]],  # 1-P2/4\n",
        "   [-1, 3, C3, [128]],\n",
        "   [-1, 1, Conv, [256, 3, 2]],  # 3-P3/8\n",
        "   [-1, 6, C3, [256]],\n",
        "   [-1, 1, Conv, [512, 3, 2]],  # 5-P4/16\n",
        "   [-1, 9, C3, [512]],\n",
        "   [-1, 1, Conv, [1024, 3, 2]],  # 7-P5/32\n",
        "   [-1, 3, C3, [1024]],\n",
        "   [-1, 1, SPPF, [1024, 5]],  # 9\n",
        "  ]\n",
        "\n",
        "# YOLOv5 v6.0 head\n",
        "head:\n",
        "  [[-1, 1, Conv, [512, 1, 1]],\n",
        "   [-1, 1, nn.Upsample, [None, 2, 'nearest']],\n",
        "   [[-1, 6], 1, Concat, [1]],  # cat backbone P4\n",
        "   [-1, 3, C3, [512, False]],  # 13\n",
        "\n",
        "   [-1, 1, Conv, [256, 1, 1]],\n",
        "   [-1, 1, nn.Upsample, [None, 2, 'nearest']],\n",
        "   [[-1, 4], 1, Concat, [1]],  # cat backbone P3\n",
        "   [-1, 3, C3, [256, False]],  # 17 (P3/8-small)\n",
        "\n",
        "   [-1, 1, Conv, [256, 3, 2]],\n",
        "   [[-1, 14], 1, Concat, [1]],  # cat head P4\n",
        "   [-1, 3, C3, [512, False]],  # 20 (P4/16-medium)\n",
        "\n",
        "   [-1, 1, Conv, [512, 3, 2]],\n",
        "   [[-1, 10], 1, Concat, [1]],  # cat head P5\n",
        "   [-1, 3, C3, [1024, False]],  # 23 (P5/32-large)\n",
        "\n",
        "   [[17, 20, 23], 1, Detect, [nc, anchors]],  # Detect(P3, P4, P5)\n",
        "  ]"
      ]
    },
    {
      "cell_type": "markdown",
      "source": [
        "### 최종 만들어진 custom_yolov5s.yaml의 내용 중 nc가 수정되었는지 확인한다\n",
        "    nc = numclasses = 1"
      ],
      "metadata": {
        "id": "79ST6VGOs_99"
      }
    },
    {
      "cell_type": "code",
      "source": [
        "%cat /content/yolov5/models/custom_yolov5s.yaml"
      ],
      "metadata": {
        "colab": {
          "base_uri": "https://localhost:8080/"
        },
        "id": "6ESQs0zvtNQ1",
        "outputId": "bad2804e-0821-4071-a83b-b0b55a0a2462"
      },
      "execution_count": null,
      "outputs": [
        {
          "output_type": "stream",
          "name": "stdout",
          "text": [
            "\n",
            "# Parameters\n",
            "nc: 1  # number of classes\n",
            "depth_multiple: 0.33  # model depth multiple\n",
            "width_multiple: 0.50  # layer channel multiple\n",
            "anchors:\n",
            "  - [10,13, 16,30, 33,23]  # P3/8\n",
            "  - [30,61, 62,45, 59,119]  # P4/16\n",
            "  - [116,90, 156,198, 373,326]  # P5/32\n",
            "\n",
            "# YOLOv5 v6.0 backbone\n",
            "backbone:\n",
            "  # [from, number, module, args]\n",
            "  [[-1, 1, Conv, [64, 6, 2, 2]],  # 0-P1/2\n",
            "   [-1, 1, Conv, [128, 3, 2]],  # 1-P2/4\n",
            "   [-1, 3, C3, [128]],\n",
            "   [-1, 1, Conv, [256, 3, 2]],  # 3-P3/8\n",
            "   [-1, 6, C3, [256]],\n",
            "   [-1, 1, Conv, [512, 3, 2]],  # 5-P4/16\n",
            "   [-1, 9, C3, [512]],\n",
            "   [-1, 1, Conv, [1024, 3, 2]],  # 7-P5/32\n",
            "   [-1, 3, C3, [1024]],\n",
            "   [-1, 1, SPPF, [1024, 5]],  # 9\n",
            "  ]\n",
            "\n",
            "# YOLOv5 v6.0 head\n",
            "head:\n",
            "  [[-1, 1, Conv, [512, 1, 1]],\n",
            "   [-1, 1, nn.Upsample, [None, 2, 'nearest']],\n",
            "   [[-1, 6], 1, Concat, [1]],  # cat backbone P4\n",
            "   [-1, 3, C3, [512, False]],  # 13\n",
            "\n",
            "   [-1, 1, Conv, [256, 1, 1]],\n",
            "   [-1, 1, nn.Upsample, [None, 2, 'nearest']],\n",
            "   [[-1, 4], 1, Concat, [1]],  # cat backbone P3\n",
            "   [-1, 3, C3, [256, False]],  # 17 (P3/8-small)\n",
            "\n",
            "   [-1, 1, Conv, [256, 3, 2]],\n",
            "   [[-1, 14], 1, Concat, [1]],  # cat head P4\n",
            "   [-1, 3, C3, [512, False]],  # 20 (P4/16-medium)\n",
            "\n",
            "   [-1, 1, Conv, [512, 3, 2]],\n",
            "   [[-1, 10], 1, Concat, [1]],  # cat head P5\n",
            "   [-1, 3, C3, [1024, False]],  # 23 (P5/32-large)\n",
            "\n",
            "   [[17, 20, 23], 1, Detect, [nc, anchors]],  # Detect(P3, P4, P5)\n",
            "  ]\n"
          ]
        }
      ]
    },
    {
      "cell_type": "markdown",
      "source": [
        "## 2. 모델 학습 시작"
      ],
      "metadata": {
        "id": "289b0Qv1tTkV"
      }
    },
    {
      "cell_type": "markdown",
      "source": [
        "### 학습에 필요한 parameter 지정하기\n",
        "    - 우리가 사용하는 tarin.py는 yoloV5 모델을 발표한 사람이 직접 작성한 코드이다.\n",
        "    - 우리는 1줄의 수정없이 코드를 그대로 사용하여 fine Tunning 진행\n",
        "    - 다만 parameter를 이용하여 작업 방법을 알려준다"
      ],
      "metadata": {
        "id": "mlj4wYdktyuF"
      }
    },
    {
      "cell_type": "markdown",
      "source": [
        "#### parameter 종류\n",
        "    - `img`: 입력 이미지 크기 정의\n",
        "    - `batch`: 배치 크기 결정 (한번 읽어올때마다 이 크기만큼 읽어옴)\n",
        "    - `epochs`: 학습 기간 개수 정의\n",
        "    - `data`: yaml 파일 경로\n",
        "    - `cfg`: 모델 구성 지정\n",
        "    - `weights`: 가중치에 대한 경로 지정\n",
        "    - `name`: 결과 이름\n",
        "    - `nosave`: 최종 체크포인트만 저장\n",
        "    - `cache`: 빠른 학습을 위한 이미지 캐시"
      ],
      "metadata": {
        "id": "2w8W5xQrucy1"
      }
    },
    {
      "cell_type": "markdown",
      "source": [
        "### 학습을 위한 시간 기록 및 폴더 이동"
      ],
      "metadata": {
        "id": "jdk-N6givB_V"
      }
    },
    {
      "cell_type": "code",
      "source": [
        "%%time\n",
        "%cd /content/yolov5/"
      ],
      "metadata": {
        "colab": {
          "base_uri": "https://localhost:8080/"
        },
        "id": "DHOVbpNEtVtF",
        "outputId": "993b92c5-4539-4af1-9976-77bf022fde30"
      },
      "execution_count": null,
      "outputs": [
        {
          "output_type": "stream",
          "name": "stdout",
          "text": [
            "/content/yolov5\n",
            "CPU times: user 1.65 ms, sys: 0 ns, total: 1.65 ms\n",
            "Wall time: 1.43 ms\n"
          ]
        }
      ]
    },
    {
      "cell_type": "markdown",
      "source": [
        "### train.py에 parameter 전달하고 실행"
      ],
      "metadata": {
        "id": "KOMpArzVvHXt"
      }
    },
    {
      "cell_type": "markdown",
      "source": [
        "#### 아래 코드를 실행 중 error가 발생 할 수 있어요\n",
        "    1. 원인은 ultralytics의 gitpython 모듈이 설치가 안되어\n",
        "    2. 자동 설치 하고 다시 restart 되면서\n",
        "    3. /content/yolov5/pothole/train/labels.cache 가 만들어졌기 때문\n",
        "    4. 이 파일을 제거하고 코드 다시 재실행"
      ],
      "metadata": {
        "id": "qjwPK4Rf2qKj"
      }
    },
    {
      "cell_type": "code",
      "source": [
        "!python train.py --img 640 --batch 16 --epochs 100 --data ./pothole/data.yaml --cfg ./models/custom_yolov5s.yaml --weights '' --name pothole_result --cache"
      ],
      "metadata": {
        "id": "_5oaR-AYvG4l"
      },
      "execution_count": null,
      "outputs": []
    },
    {
      "cell_type": "markdown",
      "source": [
        "성적이 매우 안좋은 것을 확인할 수 있다.\n",
        "\n",
        "#### 2. tensorboard를 이용한 확인"
      ],
      "metadata": {
        "id": "xmn_HiwK5aEz"
      }
    },
    {
      "cell_type": "code",
      "execution_count": null,
      "metadata": {
        "id": "mXsLUH_hPVRo"
      },
      "outputs": [],
      "source": [
        "%load_ext tensorboard\n",
        "%tensorboard --logdir runs"
      ]
    },
    {
      "cell_type": "markdown",
      "source": [
        "    3. 학습 과정 중에 validation data를 이용하여 스스로 검증한 결과를 이미지로 출력한 내용을 확인할 수 있다."
      ],
      "metadata": {
        "id": "WqKE84tl6P8b"
      }
    },
    {
      "cell_type": "code",
      "execution_count": null,
      "metadata": {
        "colab": {
          "base_uri": "https://localhost:8080/"
        },
        "id": "dyqT-naFPVRo",
        "outputId": "4683fe05-d662-4f2f-cdbf-632fbfa332f1"
      },
      "outputs": [
        {
          "output_type": "stream",
          "name": "stdout",
          "text": [
            "confusion_matrix.png\t\t\t\t    PR_curve.png\t   val_batch0_pred.jpg\n",
            "events.out.tfevents.1714360216.fee50e28cbff.2004.0  R_curve.png\t\t   val_batch1_labels.jpg\n",
            "F1_curve.png\t\t\t\t\t    results.csv\t\t   val_batch1_pred.jpg\n",
            "hyp.yaml\t\t\t\t\t    results.png\t\t   val_batch2_labels.jpg\n",
            "labels_correlogram.jpg\t\t\t\t    train_batch0.jpg\t   val_batch2_pred.jpg\n",
            "labels.jpg\t\t\t\t\t    train_batch1.jpg\t   weights\n",
            "opt.yaml\t\t\t\t\t    train_batch2.jpg\n",
            "P_curve.png\t\t\t\t\t    val_batch0_labels.jpg\n"
          ]
        }
      ],
      "source": [
        "!ls /content/yolov5/runs/train/pothole_result2"
      ]
    },
    {
      "cell_type": "markdown",
      "source": [],
      "metadata": {
        "id": "6SRQyWk-803y"
      }
    },
    {
      "cell_type": "markdown",
      "source": [
        "## 모델 검증\n"
      ],
      "metadata": {
        "id": "g-qYZAAu84gC"
      }
    },
    {
      "cell_type": "markdown",
      "source": [
        "### 실제로 검증 내용은 앞서 확인한 텐서보드의 내용과 동일"
      ],
      "metadata": {
        "id": "ztN-m__b9e3C"
      }
    },
    {
      "cell_type": "markdown",
      "source": [
        "    1. 가중치 파일은 우리가 파인튜닝한 것을 사용한다.\n",
        "    2. /content/yolov5/runs/train/pothole_result2/weights/best.pt는 학습 과정 중 가장 성적이 좋은 것이다"
      ],
      "metadata": {
        "id": "eJ3oUH_y9FhZ"
      }
    },
    {
      "cell_type": "code",
      "execution_count": null,
      "metadata": {
        "colab": {
          "base_uri": "https://localhost:8080/"
        },
        "id": "gZZd8aPBPVRp",
        "outputId": "7074909a-860b-48f8-b65c-961d9925b9d5"
      },
      "outputs": [
        {
          "output_type": "stream",
          "name": "stdout",
          "text": [
            "\u001b[34m\u001b[1mval: \u001b[0mdata=/content/yolov5/pothole/data.yaml, weights=['/content/yolov5/runs/train/pothole_result2/weights/best.pt'], batch_size=32, imgsz=640, conf_thres=0.001, iou_thres=0.65, max_det=300, task=val, device=, workers=8, single_cls=False, augment=False, verbose=False, save_txt=False, save_hybrid=False, save_conf=False, save_json=False, project=runs/val, name=exp, exist_ok=False, half=True, dnn=False\n",
            "YOLOv5 🚀 v7.0-306-gb599ae42 Python-3.10.12 torch-2.2.1+cu121 CUDA:0 (Tesla T4, 15102MiB)\n",
            "\n",
            "Fusing layers... \n",
            "custom_YOLOv5s summary: 157 layers, 7012822 parameters, 0 gradients, 15.8 GFLOPs\n",
            "\u001b[34m\u001b[1mval: \u001b[0mScanning /content/yolov5/pothole/valid/labels.cache... 133 images, 0 backgrounds, 0 corrupt: 100% 133/133 [00:00<?, ?it/s]\n",
            "/usr/lib/python3.10/multiprocessing/popen_fork.py:66: RuntimeWarning: os.fork() was called. os.fork() is incompatible with multithreaded code, and JAX is multithreaded, so this will likely lead to a deadlock.\n",
            "  self.pid = os.fork()\n",
            "                 Class     Images  Instances          P          R      mAP50   mAP50-95: 100% 5/5 [00:08<00:00,  1.62s/it]\n",
            "                   all        133        330      0.739      0.548      0.664      0.361\n",
            "Speed: 0.2ms pre-process, 29.8ms inference, 16.1ms NMS per image at shape (32, 3, 640, 640)\n",
            "Results saved to \u001b[1mruns/val/exp\u001b[0m\n"
          ]
        }
      ],
      "source": [
        "!python val.py --weights /content/yolov5/runs/train/pothole_result2/weights/best.pt --data /content/yolov5/pothole/data.yaml --img 640 --iou 0.65 --half"
      ]
    },
    {
      "cell_type": "markdown",
      "source": [
        "## 추론\n",
        "    1. 이제는 실제 사용하기 위하여 시뮬레이션을 시작\n",
        "    2. test 데이터를 이용한다.\n",
        "    3. 앞서 yolov5를 사용해서 Object detection을 했던 것 처럼 이번에는 우리가 만든 모델을 이용해서 Object detection을"
      ],
      "metadata": {
        "id": "0kxAYzFJ9pMJ"
      }
    },
    {
      "cell_type": "markdown",
      "source": [
        "파인튜닝한 결과물이 저장된 (best.py) 위치를 확인해서 폴더 위치를 지정해야 한다"
      ],
      "metadata": {
        "id": "00pn4sMZ-HfJ"
      }
    },
    {
      "cell_type": "code",
      "execution_count": null,
      "metadata": {
        "id": "e41gNpGKPVRq"
      },
      "outputs": [],
      "source": [
        "!python detect.py --weights /content/yolov5/runs/train/pothole_result2/weights/best.pt --img 640 --conf 0.4 --source ./pothole/test/images"
      ]
    },
    {
      "cell_type": "markdown",
      "source": [
        "### 결과물 확인"
      ],
      "metadata": {
        "id": "DJVOfHbd-sZJ"
      }
    },
    {
      "cell_type": "code",
      "execution_count": null,
      "metadata": {
        "id": "HB6Y2TEdPVRq"
      },
      "outputs": [],
      "source": [
        "import glob\n",
        "import random\n",
        "from IPython.display import Image, display\n",
        "\n",
        "image_name = random.choice(glob.glob('/content/yolov5/runs/detect/exp/img-105_jpg.rf.3fe9dff3d1631e79ecb480ff403bcb86.jpg'))\n",
        "\n",
        "display(Image(filename=image_name))"
      ]
    },
    {
      "cell_type": "markdown",
      "source": [
        "## 구글 드라이브 혹은 내 컴퓨터에 다운로드"
      ],
      "metadata": {
        "id": "SWTLy4Wn_uBJ"
      }
    },
    {
      "cell_type": "markdown",
      "source": [
        "  1. 구글드라이브에 연결"
      ],
      "metadata": {
        "id": "cjMafStO_zOJ"
      }
    },
    {
      "cell_type": "code",
      "source": [
        "from google.colab import drive\n",
        "drive.mount('/content/drive')"
      ],
      "metadata": {
        "colab": {
          "base_uri": "https://localhost:8080/"
        },
        "id": "dcW25mG9_yy5",
        "outputId": "67bef089-1d90-422b-c73b-660bae485cff"
      },
      "execution_count": null,
      "outputs": [
        {
          "output_type": "stream",
          "name": "stdout",
          "text": [
            "Mounted at /content/drive\n"
          ]
        }
      ]
    },
    {
      "cell_type": "code",
      "source": [
        "%mkdir /content/drive/MyDrive/pothole\n",
        "%cp /content/yolov5/runs/train/pothole_result2/weights/best.pt /content/drive/MyDrive/pothole"
      ],
      "metadata": {
        "id": "xIhV6TvN__vC"
      },
      "execution_count": null,
      "outputs": []
    },
    {
      "cell_type": "markdown",
      "source": [
        "  2. 바로 다운로드\n",
        "    - yolov5 > runs > detect > train > pothole_result2 > weights > best.pt 다운로드"
      ],
      "metadata": {
        "id": "CsFFHJqR_2Sx"
      }
    },
    {
      "cell_type": "code",
      "source": [],
      "metadata": {
        "id": "TWn4hv45ARxx"
      },
      "execution_count": null,
      "outputs": []
    }
  ]
}